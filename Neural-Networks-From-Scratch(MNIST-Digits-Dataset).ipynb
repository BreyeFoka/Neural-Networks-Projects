{
 "cells": [
  {
   "cell_type": "code",
   "execution_count": 28,
   "id": "b4e344f4",
   "metadata": {},
   "outputs": [],
   "source": [
    "import numpy as np\n",
    "import pandas as pd\n",
    "from matplotlib import pyplot as plt"
   ]
  },
  {
   "cell_type": "code",
   "execution_count": 29,
   "id": "e97d1ab6",
   "metadata": {},
   "outputs": [],
   "source": [
    "data= pd.read_csv(\"./train.csv\")"
   ]
  },
  {
   "cell_type": "code",
   "execution_count": 30,
   "id": "575bde9b",
   "metadata": {},
   "outputs": [],
   "source": [
    "data = np.array(data)\n",
    "m, n = data.shape\n",
    "np.random.shuffle(data) # shuffle before splitting into dev and training sets\n",
    "\n",
    "data_dev = data[0:1000].T\n",
    "Y_dev = data_dev[0]\n",
    "X_dev = data_dev[1:n]\n",
    "X_dev = X_dev / 255.\n",
    "\n",
    "data_train = data[1000:m].T\n",
    "Y_train = data_train[0]\n",
    "X_train = data_train[1:n]\n",
    "X_train = X_train / 255.\n",
    "_,m_train = X_train.shape"
   ]
  },
  {
   "cell_type": "code",
   "execution_count": 31,
   "id": "97e88236",
   "metadata": {},
   "outputs": [
    {
     "data": {
      "text/plain": [
       "array([2, 7, 4, ..., 0, 6, 7])"
      ]
     },
     "execution_count": 31,
     "metadata": {},
     "output_type": "execute_result"
    }
   ],
   "source": [
    "Y_train"
   ]
  },
  {
   "cell_type": "code",
   "execution_count": 32,
   "id": "159594a5",
   "metadata": {},
   "outputs": [],
   "source": [
    "def init_params():\n",
    "    W1 = np.random.rand(10, 784) - 0.5\n",
    "    b1 = np.random.rand(10, 1) - 0.5\n",
    "    W2 = np.random.rand(10, 10) - 0.5\n",
    "    b2 = np.random.rand(10, 1) - 0.5\n",
    "    return W1, b1, W2, b2\n",
    "\n",
    "def ReLU(Z):\n",
    "    return np.maximum(Z, 0)\n",
    "\n",
    "def softmax(Z):\n",
    "    A = np.exp(Z) / sum(np.exp(Z))\n",
    "    return A\n",
    "    \n",
    "def forward_prop(W1, b1, W2, b2, X):\n",
    "    Z1 = W1.dot(X) + b1\n",
    "    A1 = ReLU(Z1)\n",
    "    Z2 = W2.dot(A1) + b2\n",
    "    A2 = softmax(Z2)\n",
    "    return Z1, A1, Z2, A2\n",
    "\n",
    "def ReLU_deriv(Z):\n",
    "    return Z > 0\n",
    "\n",
    "def one_hot(Y):\n",
    "    one_hot_Y = np.zeros((Y.size, Y.max() + 1))\n",
    "    one_hot_Y[np.arange(Y.size), Y] = 1\n",
    "    one_hot_Y = one_hot_Y.T\n",
    "    return one_hot_Y\n",
    "\n",
    "def backward_prop(Z1, A1, Z2, A2, W1, W2, X, Y):\n",
    "    one_hot_Y = one_hot(Y)\n",
    "    dZ2 = A2 - one_hot_Y\n",
    "    dW2 = 1 / m * dZ2.dot(A1.T)\n",
    "    db2 = 1 / m * np.sum(dZ2)\n",
    "    dZ1 = W2.T.dot(dZ2) * ReLU_deriv(Z1)\n",
    "    dW1 = 1 / m * dZ1.dot(X.T)\n",
    "    db1 = 1 / m * np.sum(dZ1)\n",
    "    return dW1, db1, dW2, db2\n",
    "\n",
    "def update_params(W1, b1, W2, b2, dW1, db1, dW2, db2, alpha):\n",
    "    W1 = W1 - alpha * dW1\n",
    "    b1 = b1 - alpha * db1    \n",
    "    W2 = W2 - alpha * dW2  \n",
    "    b2 = b2 - alpha * db2    \n",
    "    return W1, b1, W2, b2"
   ]
  },
  {
   "cell_type": "code",
   "execution_count": 34,
   "id": "82fa3a84",
   "metadata": {},
   "outputs": [],
   "source": [
    "def get_predictions(A2):\n",
    "    return np.argmax(A2, 0)\n",
    "\n",
    "def get_accuracy(predictions, Y):\n",
    "    print(predictions, Y)\n",
    "    return np.sum(predictions == Y) / Y.size\n",
    "\n",
    "def gradient_descent(X, Y, alpha, iterations):\n",
    "    W1, b1, W2, b2 = init_params()\n",
    "    for i in range(iterations):\n",
    "        Z1, A1, Z2, A2 = forward_prop(W1, b1, W2, b2, X)\n",
    "        dW1, db1, dW2, db2 = backward_prop(Z1, A1, Z2, A2, W1, W2, X, Y)\n",
    "        W1, b1, W2, b2 = update_params(W1, b1, W2, b2, dW1, db1, dW2, db2, alpha)\n",
    "        if i % 10 == 0:\n",
    "            print(\"Iteration: \", i)\n",
    "            predictions = get_predictions(A2)\n",
    "            print(get_accuracy(predictions, Y))\n",
    "    return W1, b1, W2, b2\n",
    "   "
   ]
  },
  {
   "cell_type": "code",
   "execution_count": 39,
   "id": "dc3b6dbe",
   "metadata": {},
   "outputs": [
    {
     "name": "stdout",
     "output_type": "stream",
     "text": [
      "Iteration:  0\n",
      "[8 8 0 ... 4 4 8] [2 7 4 ... 0 6 7]\n",
      "0.10370731707317073\n",
      "Iteration:  10\n",
      "[7 4 9 ... 4 4 8] [2 7 4 ... 0 6 7]\n",
      "0.2264878048780488\n",
      "Iteration:  20\n",
      "[7 7 9 ... 9 9 7] [2 7 4 ... 0 6 7]\n",
      "0.3087560975609756\n",
      "Iteration:  30\n",
      "[7 7 9 ... 6 0 7] [2 7 4 ... 0 6 7]\n",
      "0.3849268292682927\n",
      "Iteration:  40\n",
      "[7 7 9 ... 6 0 7] [2 7 4 ... 0 6 7]\n",
      "0.4541219512195122\n",
      "Iteration:  50\n",
      "[7 7 9 ... 6 0 7] [2 7 4 ... 0 6 7]\n",
      "0.5164634146341464\n",
      "Iteration:  60\n",
      "[7 7 4 ... 6 6 7] [2 7 4 ... 0 6 7]\n",
      "0.566170731707317\n",
      "Iteration:  70\n",
      "[7 7 4 ... 0 6 7] [2 7 4 ... 0 6 7]\n",
      "0.6052682926829268\n",
      "Iteration:  80\n",
      "[7 7 4 ... 0 6 7] [2 7 4 ... 0 6 7]\n",
      "0.6369512195121951\n",
      "Iteration:  90\n",
      "[5 7 4 ... 0 6 7] [2 7 4 ... 0 6 7]\n",
      "0.6620731707317074\n",
      "Iteration:  100\n",
      "[5 7 4 ... 0 6 7] [2 7 4 ... 0 6 7]\n",
      "0.6833170731707318\n",
      "Iteration:  110\n",
      "[5 7 4 ... 0 6 7] [2 7 4 ... 0 6 7]\n",
      "0.7016341463414634\n",
      "Iteration:  120\n",
      "[5 7 4 ... 0 6 7] [2 7 4 ... 0 6 7]\n",
      "0.716609756097561\n",
      "Iteration:  130\n",
      "[5 7 4 ... 0 6 7] [2 7 4 ... 0 6 7]\n",
      "0.7311219512195122\n",
      "Iteration:  140\n",
      "[5 7 4 ... 0 6 7] [2 7 4 ... 0 6 7]\n",
      "0.7430487804878049\n",
      "Iteration:  150\n",
      "[5 7 4 ... 0 6 7] [2 7 4 ... 0 6 7]\n",
      "0.7526829268292683\n",
      "Iteration:  160\n",
      "[5 7 4 ... 0 6 7] [2 7 4 ... 0 6 7]\n",
      "0.7615365853658537\n",
      "Iteration:  170\n",
      "[5 7 4 ... 0 6 7] [2 7 4 ... 0 6 7]\n",
      "0.7712926829268293\n",
      "Iteration:  180\n",
      "[5 7 4 ... 0 6 7] [2 7 4 ... 0 6 7]\n",
      "0.778609756097561\n",
      "Iteration:  190\n",
      "[5 7 4 ... 0 6 7] [2 7 4 ... 0 6 7]\n",
      "0.7849512195121952\n",
      "Iteration:  200\n",
      "[5 7 4 ... 0 6 7] [2 7 4 ... 0 6 7]\n",
      "0.7907804878048781\n",
      "Iteration:  210\n",
      "[5 7 4 ... 0 6 7] [2 7 4 ... 0 6 7]\n",
      "0.7961463414634147\n",
      "Iteration:  220\n",
      "[5 7 4 ... 0 6 7] [2 7 4 ... 0 6 7]\n",
      "0.8011951219512196\n",
      "Iteration:  230\n",
      "[5 7 4 ... 0 6 7] [2 7 4 ... 0 6 7]\n",
      "0.8060975609756098\n",
      "Iteration:  240\n",
      "[5 7 4 ... 0 6 7] [2 7 4 ... 0 6 7]\n",
      "0.8112926829268293\n",
      "Iteration:  250\n",
      "[5 7 4 ... 0 6 7] [2 7 4 ... 0 6 7]\n",
      "0.815\n",
      "Iteration:  260\n",
      "[5 7 4 ... 0 6 7] [2 7 4 ... 0 6 7]\n",
      "0.8191219512195121\n",
      "Iteration:  270\n",
      "[5 7 4 ... 0 6 7] [2 7 4 ... 0 6 7]\n",
      "0.8222439024390243\n",
      "Iteration:  280\n",
      "[5 7 4 ... 0 6 7] [2 7 4 ... 0 6 7]\n",
      "0.8258780487804878\n",
      "Iteration:  290\n",
      "[5 7 4 ... 0 6 7] [2 7 4 ... 0 6 7]\n",
      "0.8294878048780487\n",
      "Iteration:  300\n",
      "[6 7 4 ... 0 6 7] [2 7 4 ... 0 6 7]\n",
      "0.8325365853658536\n",
      "Iteration:  310\n",
      "[6 7 4 ... 0 6 7] [2 7 4 ... 0 6 7]\n",
      "0.8349024390243902\n",
      "Iteration:  320\n",
      "[6 7 4 ... 0 6 7] [2 7 4 ... 0 6 7]\n",
      "0.8379024390243902\n",
      "Iteration:  330\n",
      "[6 7 4 ... 0 6 7] [2 7 4 ... 0 6 7]\n",
      "0.8402439024390244\n",
      "Iteration:  340\n",
      "[6 7 4 ... 0 6 7] [2 7 4 ... 0 6 7]\n",
      "0.8424878048780488\n",
      "Iteration:  350\n",
      "[6 7 4 ... 0 6 7] [2 7 4 ... 0 6 7]\n",
      "0.8449756097560975\n",
      "Iteration:  360\n",
      "[6 7 4 ... 0 6 7] [2 7 4 ... 0 6 7]\n",
      "0.8469024390243902\n",
      "Iteration:  370\n",
      "[6 7 4 ... 0 6 7] [2 7 4 ... 0 6 7]\n",
      "0.8487560975609756\n",
      "Iteration:  380\n",
      "[6 7 4 ... 0 6 7] [2 7 4 ... 0 6 7]\n",
      "0.8507317073170731\n",
      "Iteration:  390\n",
      "[6 7 4 ... 0 6 7] [2 7 4 ... 0 6 7]\n",
      "0.8523170731707317\n",
      "Iteration:  400\n",
      "[6 7 4 ... 0 6 7] [2 7 4 ... 0 6 7]\n",
      "0.8539024390243902\n",
      "Iteration:  410\n",
      "[6 7 4 ... 0 6 7] [2 7 4 ... 0 6 7]\n",
      "0.8555121951219512\n",
      "Iteration:  420\n",
      "[6 7 4 ... 0 6 7] [2 7 4 ... 0 6 7]\n",
      "0.8574390243902439\n",
      "Iteration:  430\n",
      "[6 7 4 ... 0 6 7] [2 7 4 ... 0 6 7]\n",
      "0.8590731707317073\n",
      "Iteration:  440\n",
      "[6 7 4 ... 0 6 7] [2 7 4 ... 0 6 7]\n",
      "0.8604146341463415\n",
      "Iteration:  450\n",
      "[6 7 4 ... 0 6 7] [2 7 4 ... 0 6 7]\n",
      "0.8616341463414634\n",
      "Iteration:  460\n",
      "[6 7 4 ... 0 6 7] [2 7 4 ... 0 6 7]\n",
      "0.8628292682926829\n",
      "Iteration:  470\n",
      "[6 7 4 ... 0 6 7] [2 7 4 ... 0 6 7]\n",
      "0.8640975609756097\n",
      "Iteration:  480\n",
      "[6 7 4 ... 0 6 7] [2 7 4 ... 0 6 7]\n",
      "0.8652926829268293\n",
      "Iteration:  490\n",
      "[6 7 4 ... 0 6 7] [2 7 4 ... 0 6 7]\n",
      "0.8661951219512195\n",
      "Iteration:  500\n",
      "[6 7 4 ... 0 6 7] [2 7 4 ... 0 6 7]\n",
      "0.8672439024390244\n",
      "Iteration:  510\n",
      "[6 7 4 ... 0 6 7] [2 7 4 ... 0 6 7]\n",
      "0.8684634146341463\n",
      "Iteration:  520\n",
      "[6 7 4 ... 0 6 7] [2 7 4 ... 0 6 7]\n",
      "0.869390243902439\n",
      "Iteration:  530\n",
      "[6 7 4 ... 0 6 7] [2 7 4 ... 0 6 7]\n",
      "0.8702439024390244\n",
      "Iteration:  540\n",
      "[6 7 4 ... 0 6 7] [2 7 4 ... 0 6 7]\n",
      "0.8708780487804878\n"
     ]
    }
   ],
   "source": [
    "W1, b1, W2, b2 = gradient_descent(X_train, Y_train, 0.15, 550)"
   ]
  },
  {
   "cell_type": "code",
   "execution_count": 40,
   "id": "6e119588",
   "metadata": {},
   "outputs": [],
   "source": [
    "def make_predictions(X, W1, b1, W2, b2):\n",
    "    _, _, _, A2 = forward_prop(W1, b1, W2, b2, X)\n",
    "    predictions = get_predictions(A2)\n",
    "    return predictions\n",
    "\n",
    "def test_prediction(index, W1, b1, W2, b2):\n",
    "    current_image = X_train[:, index, None]\n",
    "    prediction = make_predictions(X_train[:, index, None], W1, b1, W2, b2)\n",
    "    label = Y_train[index]\n",
    "    print(\"Prediction: \", prediction)\n",
    "    print(\"Label: \", label)\n",
    "    \n",
    "    current_image = current_image.reshape((28, 28)) * 255\n",
    "    plt.gray()\n",
    "    plt.imshow(current_image, interpolation='nearest')\n",
    "    plt.show()\n",
    "    "
   ]
  },
  {
   "cell_type": "code",
   "execution_count": 41,
   "id": "4d0d7188",
   "metadata": {},
   "outputs": [
    {
     "name": "stdout",
     "output_type": "stream",
     "text": [
      "Prediction:  [6]\n",
      "Label:  2\n"
     ]
    },
    {
     "data": {
      "image/png": "[encoded data removed]",
      "text/plain": [
       "<Figure size 640x480 with 1 Axes>"
      ]
     },
     "metadata": {},
     "output_type": "display_data"
    },
    {
     "name": "stdout",
     "output_type": "stream",
     "text": [
      "Prediction:  [7]\n",
      "Label:  7\n"
     ]
    },
    {
     "data": {
      "image/png": "[encoded data removed]",
      "text/plain": [
       "<Figure size 640x480 with 1 Axes>"
      ]
     },
     "metadata": {},
     "output_type": "display_data"
    },
    {
     "name": "stdout",
     "output_type": "stream",
     "text": [
      "Prediction:  [4]\n",
      "Label:  4\n"
     ]
    },
    {
     "data": {
      "image/png": "[encoded data removed]",
      "text/plain": [
       "<Figure size 640x480 with 1 Axes>"
      ]
     },
     "metadata": {},
     "output_type": "display_data"
    },
    {
     "name": "stdout",
     "output_type": "stream",
     "text": [
      "Prediction:  [6]\n",
      "Label:  6\n"
     ]
    },
    {
     "data": {
      "image/png": "[encoded data removed]",
      "text/plain": [
       "<Figure size 640x480 with 1 Axes>"
      ]
     },
     "metadata": {},
     "output_type": "display_data"
    }
   ],
   "source": [
    "test_prediction(0, W1, b1, W2, b2)\n",
    "test_prediction(1, W1, b1, W2, b2)\n",
    "test_prediction(2, W1, b1, W2, b2)\n",
    "test_prediction(3, W1, b1, W2, b2)"
   ]
  },
  {
   "cell_type": "code",
   "execution_count": null,
   "id": "2e5ae8e0",
   "metadata": {},
   "outputs": [],
   "source": []
  }
 ],
 "metadata": {
  "kernelspec": {
   "display_name": "Python 3",
   "language": "python",
   "name": "python3"
  },
  "language_info": {
   "codemirror_mode": {
    "name": "ipython",
    "version": 3
   },
   "file_extension": ".py",
   "mimetype": "text/x-python",
   "name": "python",
   "nbconvert_exporter": "python",
   "pygments_lexer": "ipython3",
   "version": "3.12.8"
  }
 },
 "nbformat": 4,
 "nbformat_minor": 5
}
